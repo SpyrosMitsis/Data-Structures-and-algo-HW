{
 "cells": [
  {
   "cell_type": "code",
   "execution_count": 1,
   "id": "5d72ff27-c48f-4fab-aa1d-0bf3c9f1b4e8",
   "metadata": {},
   "outputs": [],
   "source": [
    "import numpy as np\n",
    "s"
   ]
  },
  {
   "cell_type": "code",
   "execution_count": 2,
   "id": "91ea583f-1aee-4a9a-9935-12df79d5756b",
   "metadata": {},
   "outputs": [],
   "source": [
    "W = np.array([\n",
    "    [1, -3, 5],\n",
    "    [2, 4, -6]\n",
    "    ])\n",
    "b = np.array([-1, 1, 2])\n",
    "a_in = np.array([-2, 4])\n",
    "\n",
    "\n",
    "parameters = {\n",
    "    \"W1\": W.T,  # Transpose W to match the shape for input layer to hidden layer\n",
    "    \"b1\": b,\n",
    "    \"W2\": np.random.randn(1, 3),  # Random weights for hidden layer to output layer\n",
    "    \"b2\": np.random.randn(1)      # Random bias for output layer\n",
    "}"
   ]
  },
  {
   "cell_type": "code",
   "execution_count": 3,
   "id": "961cc1ba-2df1-4e5f-be14-dda4d5eeb221",
   "metadata": {},
   "outputs": [],
   "source": [
    "def activation(x: np.array) -> np.array:\n",
    "    return 1 / (1 + np.exp(-x))"
   ]
  },
  {
   "cell_type": "code",
   "execution_count": 4,
   "id": "66658cbb-3c3b-422d-b620-644beb71253e",
   "metadata": {},
   "outputs": [],
   "source": [
    "def dense(a_in: np.array, W: np.array, b: np.array):\n",
    "    units = W.shape[1]\n",
    "    a_out = np.zeros(units)\n",
    "    for j in range(units):\n",
    "        w = W[:,j]\n",
    "        z = np.dot(w, a_in) + b[j]\n",
    "        a_out = activation(z)\n",
    "    return a_out"
   ]
  },
  {
   "cell_type": "code",
   "execution_count": null,
   "id": "7ac07ccc-35db-4484-8057-325beb85d21f",
   "metadata": {},
   "outputs": [],
   "source": [
    "def sequential(x: np.array, parameters: dict) -> float:\n",
    "    \"\"\"\n",
    "    Implement forward propagation for a neural network with one hidden layer.\n",
    "    \n",
    "    Arguments:\n",
    "    x -- input data of shape (input_size, m)\n",
    "    parameters -- python dictionary containing parameters:\n",
    "                  W1 -- weight matrix of shape (hidden_size, input_size)\n",
    "                  b1 -- bias vector of shape (hidden_size,)\n",
    "                  W2 -- weight matrix of shape (output_size, hidden_size)\n",
    "                  b2 -- bias vector of shape (output_size,)\n",
    "    \n",
    "    Returns:\n",
    "    A2 -- The sigmoid output of the second activation\n",
    "    \"\"\"\n",
    "    \n",
    "    # Retrieve parameters\n",
    "    W1 = parameters[\"W1\"]\n",
    "    b1 = parameters[\"b1\"]\n",
    "    W2 = parameters[\"W2\"]\n",
    "    b2 = parameters[\"b2\"]\n",
    "    \n",
    "    # Perform forward propagation\n",
    "    A1 = dense(x, W1, b1, activation)\n",
    "    A2 = dense(A1, W2, b2, activation)\n",
    "    \n",
    "    return A2 "
   ]
  }
 ],
 "metadata": {
  "kernelspec": {
   "display_name": "Python 3 (ipykernel)",
   "language": "python",
   "name": "python3"
  },
  "language_info": {
   "codemirror_mode": {
    "name": "ipython",
    "version": 3
   },
   "file_extension": ".py",
   "mimetype": "text/x-python",
   "name": "python",
   "nbconvert_exporter": "python",
   "pygments_lexer": "ipython3",
   "version": "3.12.0"
  }
 },
 "nbformat": 4,
 "nbformat_minor": 5
}
