{
 "cells": [
  {
   "cell_type": "code",
   "execution_count": 1,
   "id": "5d72ff27-c48f-4fab-aa1d-0bf3c9f1b4e8",
   "metadata": {},
   "outputs": [],
   "source": [
    "import numpy as np"
   ]
  },
  {
   "cell_type": "code",
   "execution_count": 13,
   "id": "aa2fa18c",
   "metadata": {},
   "outputs": [],
   "source": [
    "X = np.array([[0.1, 0.2, 0.7]])\n",
    "\n",
    "W = np.array([\n",
    "    [1, -3, 5],\n",
    "    [2, 4, -6]\n",
    "])\n",
    "b = np.array([-1, 1, 2])\n",
    "a_in = np.array([-2, 4])\n",
    "\n",
    "# Define parameters\n",
    "parameters = {\n",
    "    \"W1\": W,\n",
    "    \"b1\": b,\n",
    "    \"W2\": np.random.randn(3, 1),  \n",
    "    \"b2\": np.random.randn(1)      \n",
    "}"
   ]
  },
  {
   "cell_type": "code",
   "execution_count": 14,
   "id": "78317884",
   "metadata": {},
   "outputs": [],
   "source": [
    "def sigmoid(x):\n",
    "    return 1 / (1 + np.exp(-x))"
   ]
  },
  {
   "cell_type": "code",
   "execution_count": 15,
   "id": "c70fdf9b",
   "metadata": {},
   "outputs": [],
   "source": [
    "def dense(a_in: np.array, W: np.array, b: np.array):\n",
    "    units = W.shape[1]\n",
    "    a_out = np.zeros(units)\n",
    "    for j in range(units):\n",
    "        w = W[:, j]\n",
    "        z = np.dot(w, a_in) + b[j]\n",
    "        a_out[j] = z  # No activation function is applied in this version\n",
    "    return a_out"
   ]
  },
  {
   "cell_type": "code",
   "execution_count": 19,
   "id": "395dec2a",
   "metadata": {},
   "outputs": [],
   "source": [
    "def sequential(x: np.array, parameters: dict) -> float:\n",
    "    \"\"\"\n",
    "    Implement forward propagation for a neural network with one hidden layer.\n",
    "    \n",
    "    Arguments:\n",
    "    x -- input data of shape (input_size,)\n",
    "    parameters -- python dictionary containing parameters:\n",
    "                  W1 -- weight matrix of shape (input_size, hidden_size)\n",
    "                  b1 -- bias vector of shape (hidden_size,)\n",
    "                  W2 -- weight matrix of shape (hidden_size, output_size)\n",
    "                  b2 -- bias vector of shape (output_size,)\n",
    "    \n",
    "    Returns:\n",
    "    A2 -- The output of the second layer\n",
    "    \"\"\"\n",
    "    # Retrieve parameters\n",
    "    W1 = parameters[\"W1\"]\n",
    "    b1 = parameters[\"b1\"]\n",
    "    W2 = parameters[\"W2\"]\n",
    "    b2 = parameters[\"b2\"]\n",
    "    \n",
    "    # Perform forward propagation\n",
    "    A1 = dense(x, W1, b1)\n",
    "    A2 = dense(A1, W2, b2)\n",
    "    \n",
    "    return A2\n"
   ]
  },
  {
   "cell_type": "code",
   "execution_count": 22,
   "id": "368bcec7",
   "metadata": {},
   "outputs": [
    {
     "name": "stdout",
     "output_type": "stream",
     "text": [
      "[-29.13365278]\n"
     ]
    }
   ],
   "source": [
    "output = sequential(a_in, parameters)\n",
    "print(output)"
   ]
  }
 ],
 "metadata": {
  "kernelspec": {
   "display_name": "Python 3 (ipykernel)",
   "language": "python",
   "name": "python3"
  },
  "language_info": {
   "codemirror_mode": {
    "name": "ipython",
    "version": 3
   },
   "file_extension": ".py",
   "mimetype": "text/x-python",
   "name": "python",
   "nbconvert_exporter": "python",
   "pygments_lexer": "ipython3",
   "version": "3.12.0"
  }
 },
 "nbformat": 4,
 "nbformat_minor": 5
}
